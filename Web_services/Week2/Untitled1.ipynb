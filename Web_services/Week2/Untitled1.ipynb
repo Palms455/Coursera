{
 "cells": [
  {
   "cell_type": "code",
   "execution_count": 19,
   "metadata": {},
   "outputs": [
    {
     "ename": "IndentationError",
     "evalue": "unexpected indent (<ipython-input-19-e6641c23319d>, line 44)",
     "output_type": "error",
     "traceback": [
      "\u001b[0;36m  File \u001b[0;32m\"<ipython-input-19-e6641c23319d>\"\u001b[0;36m, line \u001b[0;32m44\u001b[0m\n\u001b[0;31m    print('efef')\u001b[0m\n\u001b[0m    ^\u001b[0m\n\u001b[0;31mIndentationError\u001b[0m\u001b[0;31m:\u001b[0m unexpected indent\n"
     ]
    }
   ],
   "source": [
    "import re\n",
    "from bs4 import BeautifulSoup\n",
    "import os\n",
    "\n",
    "site_rev=[]\n",
    "\n",
    "\n",
    "def build_link(start,end,path):\n",
    "    site_list = []\n",
    "    site_list.append(start)\n",
    "    \n",
    "    with open(f'{path}{start}', 'r') as data:\n",
    "        text_site = data.read()\n",
    "        link_search = re.compile(r\"(?<=/wiki/)[\\w()]+\")\n",
    "        link_result = link_search.findall(text_site)\n",
    "        global site_rev\n",
    "        for i in link_result:\n",
    "            if i not in site_rev:\n",
    "                site_rev.append(i)\n",
    "    if end in link_result:\n",
    "        site_list.append(end)\n",
    "    else:\n",
    "        site_list.append(tree(path, end))\n",
    "        site_list.append(end)\n",
    "\n",
    "        \n",
    "                \n",
    "def tree(path,end):\n",
    "    global site_rev\n",
    "    while True:\n",
    "            \n",
    "            try:\n",
    "                with open(f'{path}{site_rev.pop(19)}', 'r') as data:\n",
    "                    text_site = data.read()\n",
    "                    link_search = re.compile(r\"(?<=/wiki/)[\\w()]+\")\n",
    "                    link_result = link_search.findall(text_site)\n",
    "                if end not in link_result:\n",
    "                     for i in link_result:\n",
    "                        if i not in site_rev:\n",
    "                            site_rev.append(i)\n",
    "                            tree(path, end)\n",
    "                else: False\n",
    "            except: FileNotFoundError \n",
    "                print('efef')\n",
    "    \n",
    "\n",
    "start = 'Stone_Age'\n",
    "end = 'Python_(programming_language)'\n",
    "path = './wiki/'\n",
    "\n",
    "build_link(start, end, path)\n"
   ]
  },
  {
   "cell_type": "code",
   "execution_count": null,
   "metadata": {},
   "outputs": [],
   "source": []
  },
  {
   "cell_type": "code",
   "execution_count": null,
   "metadata": {},
   "outputs": [],
   "source": []
  },
  {
   "cell_type": "code",
   "execution_count": null,
   "metadata": {},
   "outputs": [],
   "source": []
  }
 ],
 "metadata": {
  "kernelspec": {
   "display_name": "Python 3",
   "language": "python",
   "name": "python3"
  },
  "language_info": {
   "codemirror_mode": {
    "name": "ipython",
    "version": 3
   },
   "file_extension": ".py",
   "mimetype": "text/x-python",
   "name": "python",
   "nbconvert_exporter": "python",
   "pygments_lexer": "ipython3",
   "version": "3.6.9"
  }
 },
 "nbformat": 4,
 "nbformat_minor": 2
}
