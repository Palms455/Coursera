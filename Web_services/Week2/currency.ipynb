{
 "cells": [
  {
   "cell_type": "code",
   "execution_count": null,
   "metadata": {},
   "outputs": [],
   "source": [
    "from bs4 import BeautifulSoup\n",
    "from decimal import Decimal\n",
    "\n",
    "\n",
    "def convert(amount, cur_from, cur_to, date, requests):\n",
    "    response = requests.get(f'http://www.cbr.ru/scripts/XML_daily.asp?date_req={date}')  # Использовать переданный requests\n",
    "    soup = BeautifulSoup(response.content, 'xml')\n",
    "    second_val = soup.find('CharCode', text=cur_to).find_next_sibling('Value')\n",
    "    second_nominal = soup.find('CharCode', text=cur_to).find_next_sibling('Nominal')\n",
    "    if cur_from != 'RUR':\n",
    "        first_val = soup.find('CharCode', text=cur_from).find_next_sibling('Value')\n",
    "        first_nominal = soup.find('CharCode', text=cur_from).find_next_sibling('Nominal')\n",
    "        first_val_rub = (Decimal(first_val.text.replace(',','.'))/int(first_nominal.text)) * amount\n",
    "        print(first_val_rub)\n",
    "    else:\n",
    "        first_val_rub = amount\n",
    "    \n",
    "    total_sum = first_val_rub/(Decimal(second_val.text.replace(',','.')) /int(second_nominal.text))  \n",
    "    return total_sum.quantize(Decimal(\"1.0000\"))  # не забыть про округление до 4х знаков после запятой\n",
    "\n",
    "\n"
   ]
  }
 ],
 "metadata": {
  "kernelspec": {
   "display_name": "Python 3",
   "language": "python",
   "name": "python3"
  },
  "language_info": {
   "codemirror_mode": {
    "name": "ipython",
    "version": 3
   },
   "file_extension": ".py",
   "mimetype": "text/x-python",
   "name": "python",
   "nbconvert_exporter": "python",
   "pygments_lexer": "ipython3",
   "version": "3.6.9"
  }
 },
 "nbformat": 4,
 "nbformat_minor": 2
}
