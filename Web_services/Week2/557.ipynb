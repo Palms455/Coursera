{
 "cells": [
  {
   "cell_type": "code",
   "execution_count": 35,
   "metadata": {},
   "outputs": [
    {
     "name": "stdout",
     "output_type": "stream",
     "text": [
      "b'36,4749'\n"
     ]
    },
    {
     "ename": "NameError",
     "evalue": "name 'total_sum' is not defined",
     "output_type": "error",
     "traceback": [
      "\u001b[1;31m---------------------------------------------------------------------------\u001b[0m",
      "\u001b[1;31mNameError\u001b[0m                                 Traceback (most recent call last)",
      "\u001b[1;32m<ipython-input-35-9977c3d35567>\u001b[0m in \u001b[0;36m<module>\u001b[1;34m\u001b[0m\n\u001b[0;32m     25\u001b[0m \u001b[1;33m\u001b[0m\u001b[0m\n\u001b[0;32m     26\u001b[0m \u001b[0mcorrect\u001b[0m \u001b[1;33m=\u001b[0m \u001b[0mDecimal\u001b[0m\u001b[1;33m(\u001b[0m\u001b[1;34m'3754.8057'\u001b[0m\u001b[1;33m)\u001b[0m\u001b[1;33m\u001b[0m\u001b[1;33m\u001b[0m\u001b[0m\n\u001b[1;32m---> 27\u001b[1;33m \u001b[0mresult\u001b[0m \u001b[1;33m=\u001b[0m \u001b[0mconvert\u001b[0m\u001b[1;33m(\u001b[0m\u001b[0mDecimal\u001b[0m\u001b[1;33m(\u001b[0m\u001b[1;34m\"1000.1000\"\u001b[0m\u001b[1;33m)\u001b[0m\u001b[1;33m,\u001b[0m \u001b[1;34m'EUR'\u001b[0m\u001b[1;33m,\u001b[0m \u001b[1;34m'JPY'\u001b[0m\u001b[1;33m,\u001b[0m \u001b[1;34m\"17/02/2005\"\u001b[0m\u001b[1;33m,\u001b[0m \u001b[0mrequests\u001b[0m\u001b[1;33m)\u001b[0m\u001b[1;33m\u001b[0m\u001b[1;33m\u001b[0m\u001b[0m\n\u001b[0m\u001b[0;32m     28\u001b[0m \u001b[1;32mif\u001b[0m \u001b[0mresult\u001b[0m \u001b[1;33m==\u001b[0m \u001b[0mcorrect\u001b[0m\u001b[1;33m:\u001b[0m\u001b[1;33m\u001b[0m\u001b[1;33m\u001b[0m\u001b[0m\n\u001b[0;32m     29\u001b[0m     \u001b[0mprint\u001b[0m\u001b[1;33m(\u001b[0m\u001b[1;34m\"Correct\"\u001b[0m\u001b[1;33m)\u001b[0m\u001b[1;33m\u001b[0m\u001b[1;33m\u001b[0m\u001b[0m\n",
      "\u001b[1;32m<ipython-input-35-9977c3d35567>\u001b[0m in \u001b[0;36mconvert\u001b[1;34m(amount, cur_from, cur_to, date, requests)\u001b[0m\n\u001b[0;32m     20\u001b[0m \u001b[1;33m\u001b[0m\u001b[0m\n\u001b[0;32m     21\u001b[0m     \u001b[1;31m#total_sum = float(first_val_rub)/(float(second_val)/float(second_nominal))\u001b[0m\u001b[1;33m\u001b[0m\u001b[1;33m\u001b[0m\u001b[1;33m\u001b[0m\u001b[0m\n\u001b[1;32m---> 22\u001b[1;33m     \u001b[1;32mreturn\u001b[0m \u001b[0mtotal_sum\u001b[0m  \u001b[1;31m# не забыть про округление до 4х знаков после запятой\u001b[0m\u001b[1;33m\u001b[0m\u001b[1;33m\u001b[0m\u001b[0m\n\u001b[0m\u001b[0;32m     23\u001b[0m \u001b[1;33m\u001b[0m\u001b[0m\n\u001b[0;32m     24\u001b[0m \u001b[1;33m\u001b[0m\u001b[0m\n",
      "\u001b[1;31mNameError\u001b[0m: name 'total_sum' is not defined"
     ]
    }
   ],
   "source": [
    "from bs4 import BeautifulSoup\n",
    "import requests\n",
    "from decimal import Decimal\n",
    "\n",
    "\n",
    "def convert(amount, cur_from, cur_to, date, requests):\n",
    "    response = requests.get(f'http://www.cbr.ru/scripts/XML_daily.asp?date_req={date}')  # Использовать переданный requests\n",
    "    soup = BeautifulSoup(response.content, 'xml')\n",
    "    second_val = soup.find('CharCode', text=cur_to).find_next_sibling('Value')\n",
    "    second_nominal = soup.find('CharCode', text=cur_to).find_next_sibling('Nominal')\n",
    "    if cur_from != 'RUR':\n",
    "    \n",
    "        first_val = soup.find('CharCode', text=cur_from).find_next_sibling('Value')\n",
    "        first_nominal = soup.find('CharCode', text=cur_from).find_next_sibling('Nominal')\n",
    "        #first_val_rub = float(first_val.text)/float(first_nominal.text) * amount\n",
    "        print((first_val.prett()))\n",
    "    else:\n",
    "        first_val_rub = amount\n",
    "        \n",
    "        \n",
    "    #total_sum = float(first_val_rub)/(float(second_val)/float(second_nominal))\n",
    "    return total_sum  # не забыть про округление до 4х знаков после запятой\n",
    "\n",
    "\n",
    "\n",
    "correct = Decimal('3754.8057')\n",
    "result = convert(Decimal(\"1000.1000\"), 'EUR', 'JPY', \"17/02/2005\", requests)\n",
    "if result == correct:\n",
    "    print(\"Correct\")\n",
    "else:\n",
    "    print(\"Incorrect: %s != %s\" % (result, correct))\n",
    "\n"
   ]
  },
  {
   "cell_type": "code",
   "execution_count": null,
   "metadata": {},
   "outputs": [],
   "source": []
  },
  {
   "cell_type": "code",
   "execution_count": null,
   "metadata": {},
   "outputs": [],
   "source": []
  },
  {
   "cell_type": "code",
   "execution_count": null,
   "metadata": {},
   "outputs": [],
   "source": []
  }
 ],
 "metadata": {
  "kernelspec": {
   "display_name": "Python 3",
   "language": "python",
   "name": "python3"
  },
  "language_info": {
   "codemirror_mode": {
    "name": "ipython",
    "version": 3
   },
   "file_extension": ".py",
   "mimetype": "text/x-python",
   "name": "python",
   "nbconvert_exporter": "python",
   "pygments_lexer": "ipython3",
   "version": "3.7.3"
  }
 },
 "nbformat": 4,
 "nbformat_minor": 2
}
