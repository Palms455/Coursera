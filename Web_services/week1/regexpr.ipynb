{
 "cells": [
  {
   "cell_type": "code",
   "execution_count": 9,
   "metadata": {},
   "outputs": [
    {
     "name": "stdout",
     "output_type": "stream",
     "text": [
      "Correct\n"
     ]
    }
   ],
   "source": [
    "import re\n",
    "\n",
    "\n",
    "def calculate(data, findall):\n",
    "    matches = findall(r\"\\w?([abc])([-+]?)=([abc]?)([-+]?\\d+)?\")\n",
    "\n",
    "    for v1, s, v2, n in matches:\n",
    "        p = 0\n",
    "        if s == '-':\n",
    "            s = -1\n",
    "            p = 1\n",
    "        elif s == '+':\n",
    "            s = 1\n",
    "            p = 1\n",
    "        else:\n",
    "            s = 1\n",
    "        data[v1] = data[v1] * p + (data.get(v2, 0) + int(n or 0)) * s\n",
    "    return data\n",
    "\n",
    "def findall(regexp):\n",
    "    text = \"\"\"\n",
    "    a=1\n",
    "    a=+1\n",
    "    a=-1\n",
    "    a=b\n",
    "    a=b+100\n",
    "    a=b-100\n",
    "    \n",
    "    b+=10\n",
    "    b+=+10\n",
    "    b+=-10\n",
    "    b+=b\n",
    "    b+=b+100\n",
    "    b+=b-100\n",
    "    \n",
    "    c-=101\n",
    "    c-=+101\n",
    "    c-=-101\n",
    "    c-=b\n",
    "    c-=b+101\n",
    "    c-=b-101\n",
    "    \"\"\"\n",
    "\n",
    "    return re.findall(regexp, text)\n",
    "\n",
    "\n",
    "result = calculate({'a': 1, 'b': 2, 'c': 3}, findall)\n",
    "correct = {\"a\": -98, \"b\": 196, \"c\": -686}\n",
    "if result == correct:\n",
    "    print (\"Correct\")\n",
    "else:\n",
    "    print (\"Incorrect: %s != %s\" % (result, correct))"
   ]
  },
  {
   "cell_type": "code",
   "execution_count": null,
   "metadata": {},
   "outputs": [],
   "source": []
  },
  {
   "cell_type": "code",
   "execution_count": null,
   "metadata": {},
   "outputs": [],
   "source": []
  }
 ],
 "metadata": {
  "kernelspec": {
   "display_name": "Python 3",
   "language": "python",
   "name": "python3"
  },
  "language_info": {
   "codemirror_mode": {
    "name": "ipython",
    "version": 3
   },
   "file_extension": ".py",
   "mimetype": "text/x-python",
   "name": "python",
   "nbconvert_exporter": "python",
   "pygments_lexer": "ipython3",
   "version": "3.6.9"
  }
 },
 "nbformat": 4,
 "nbformat_minor": 2
}
