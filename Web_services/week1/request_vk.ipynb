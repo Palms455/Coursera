{
 "cells": [
  {
   "cell_type": "code",
   "execution_count": 140,
   "metadata": {},
   "outputs": [
    {
     "name": "stdout",
     "output_type": "stream",
     "text": [
      "[(29, 36), (33, 33), (31, 30), (28, 26), (32, 24), (27, 23), (34, 23), (30, 20), (35, 18), (36, 16), (26, 15), (37, 15), (24, 13), (25, 13), (39, 13), (23, 12), (38, 12), (21, 10), (19, 8), (22, 8), (40, 7), (44, 6), (14, 5), (20, 5), (41, 5), (42, 5), (48, 5), (45, 4), (47, 4), (15, 3), (18, 3), (49, 3), (17, 2), (51, 2), (52, 2), (56, 2), (117, 2), (43, 1), (46, 1), (50, 1), (53, 1), (54, 1), (62, 1), (74, 1), (101, 1), (102, 1)]\n"
     ]
    }
   ],
   "source": [
    "import requests\n",
    "import json\n",
    "\n",
    "def calc_age(user_name):\n",
    "\n",
    "    link_user = 'https://api.vk.com/method/users.get'\n",
    "    parameter = {'v': '5.71',\n",
    "                'access_token': '370382ac370382ac370382ac4b376dd65933703370382ac6ae73c1630972c2481a1852b',\n",
    "                'user_ids': user_name,\n",
    "                }\n",
    "    r = requests.get(link_user, params = parameter)\n",
    "    user_id = r.json()['response'][0]['id']\n",
    "    \n",
    "    \n",
    "    \n",
    "    link_friend = 'https://api.vk.com/method/friends.get'\n",
    "    parameter1 = {'v': '5.71',\n",
    "                'access_token': '370382ac370382ac370382ac4b376dd65933703370382ac6ae73c1630972c2481a1852b',\n",
    "                'user_id': user_id,\n",
    "                'fields': 'bdate'\n",
    "                }\n",
    "\n",
    "    get_friend = requests.get(link_friend, params = parameter1)\n",
    "    new_list = []\n",
    "    dic = {}\n",
    "\n",
    "    friend_list = get_friend.json()['response']['items']\n",
    "    for i in friend_list:\n",
    "        if 'bdate' in i:\n",
    "            d = i['bdate'].split('.')\n",
    "            if len(d) == 3:\n",
    "                years = 2019 - int(d[2])\n",
    "                if years not in dic:\n",
    "                    dic[years] = 1\n",
    "                else:\n",
    "                    dic[years] +=1\n",
    "    friend_list = []\n",
    "    for j in dic:    \n",
    "        friend_list.append((j , dic[j]) )\n",
    "    friend_list = sorted(friend_list, key=lambda x: x[0], reverse = False)    \n",
    "    friend_list = sorted(friend_list, key=lambda x: x[1], reverse = True)\n",
    "    return friend_list\n",
    "\n",
    "\n",
    "if __name__ == '__main__':\n",
    "    res = calc_age('insmile_sterlitamak')\n",
    "    print(res)\n"
   ]
  },
  {
   "cell_type": "code",
   "execution_count": null,
   "metadata": {},
   "outputs": [],
   "source": []
  },
  {
   "cell_type": "code",
   "execution_count": null,
   "metadata": {},
   "outputs": [],
   "source": []
  },
  {
   "cell_type": "code",
   "execution_count": null,
   "metadata": {},
   "outputs": [],
   "source": []
  }
 ],
 "metadata": {
  "kernelspec": {
   "display_name": "Python 3",
   "language": "python",
   "name": "python3"
  },
  "language_info": {
   "codemirror_mode": {
    "name": "ipython",
    "version": 3
   },
   "file_extension": ".py",
   "mimetype": "text/x-python",
   "name": "python",
   "nbconvert_exporter": "python",
   "pygments_lexer": "ipython3",
   "version": "3.6.9"
  }
 },
 "nbformat": 4,
 "nbformat_minor": 2
}
