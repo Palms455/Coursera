{
 "cells": [
  {
   "cell_type": "code",
   "execution_count": 2,
   "metadata": {},
   "outputs": [
    {
     "name": "stdout",
     "output_type": "stream",
     "text": [
      "[('a', '', '', '1'), ('a', '', '', '+1'), ('a', '', '', '-1'), ('a', '', 'b', ''), ('a', '', 'b', '+100'), ('a', '', 'b', '-100'), ('b', '+', '', '10'), ('b', '+', '', '+10'), ('b', '+', '', '-10'), ('b', '+', 'b', ''), ('b', '+', 'b', '+100'), ('b', '+', 'b', '-100'), ('c', '-', '', '101'), ('c', '-', '', '+101'), ('c', '-', '', '-101'), ('c', '-', 'b', ''), ('c', '-', 'b', '+101'), ('c', '-', 'b', '-101')]\n"
     ]
    }
   ],
   "source": [
    "import re\n",
    "\n",
    "text = \"\"\"\n",
    "    a=1\n",
    "    a=+1\n",
    "    a=-1\n",
    "    a=b\n",
    "    a=b+100\n",
    "    a=b-100\n",
    "    \n",
    "    b+=10\n",
    "    b+=+10\n",
    "    b+=-10\n",
    "    b+=b\n",
    "    b+=b+100\n",
    "    b+=b-100\n",
    "    \n",
    "    c-=101\n",
    "    c-=+101\n",
    "    c-=-101\n",
    "    c-=b\n",
    "    c-=b+101\n",
    "    c-=b-101\n",
    "    \"\"\"\n",
    "pattern = r\"\\w?([abc])([-+]?)=([abc]?)([-+]?\\d+)?\"\n",
    "matches = re.findall(pattern, text)\n",
    "print(matches)"
   ]
  },
  {
   "cell_type": "code",
   "execution_count": null,
   "metadata": {},
   "outputs": [],
   "source": []
  }
 ],
 "metadata": {
  "kernelspec": {
   "display_name": "Python 3",
   "language": "python",
   "name": "python3"
  },
  "language_info": {
   "codemirror_mode": {
    "name": "ipython",
    "version": 3
   },
   "file_extension": ".py",
   "mimetype": "text/x-python",
   "name": "python",
   "nbconvert_exporter": "python",
   "pygments_lexer": "ipython3",
   "version": "3.6.9"
  }
 },
 "nbformat": 4,
 "nbformat_minor": 2
}
